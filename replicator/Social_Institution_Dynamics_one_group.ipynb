{
 "cells": [
  {
   "cell_type": "code",
   "execution_count": 10,
   "id": "f39f13a4",
   "metadata": {
    "hideCode": true,
    "hidePrompt": true
   },
   "outputs": [],
   "source": [
    "%matplotlib inline\n",
    "import matplotlib.pyplot as plt\n",
    "import numpy as np\n",
    "from scipy import integrate as integ\n",
    "import matplotlib.animation as animation\n",
    "import matplotlib\n",
    "import ternary\n",
    "import random\n",
    "import math\n",
    "import warnings\n",
    "warnings.filterwarnings('ignore')"
   ]
  },
  {
   "cell_type": "code",
   "execution_count": 11,
   "id": "8bd986ba",
   "metadata": {
    "hideCode": false,
    "hidePrompt": true
   },
   "outputs": [],
   "source": [
    "def social(X,t):\n",
    "    \n",
    "    A = np.array([[1, -1, 1], [-1, -1, -1], [1, -1, 0]])\n",
    "    \n",
    "    x = X[0]\n",
    "    y = X[1]\n",
    "    z = X[2] \n",
    "    \n",
    "    # Change in strategy frequencies:\n",
    "    xdot = x*(np.matmul(A, X)[0]-np.matmul(X, np.matmul(A, X)))\n",
    "    ydot = y*(np.matmul(A, X)[1]-np.matmul(X, np.matmul(A, X)))\n",
    "    zdot = z*(np.matmul(A, X)[2]-np.matmul(X, np.matmul(A, X)))\n",
    "        \n",
    "    return [xdot,ydot,zdot]"
   ]
  },
  {
   "cell_type": "markdown",
   "id": "ec55d485",
   "metadata": {},
   "source": [
    "# Evolution of ethnic preferences\n",
    "\n",
    "Payoff matrix:       $\\left(\\begin{matrix}\n",
    "1 & -1 & 1 \\\\\n",
    "-1 & -1 & -1 \\\\\n",
    "1 & -1 & 0\n",
    "\\end{matrix}\\right)$"
   ]
  },
  {
   "cell_type": "code",
   "execution_count": 13,
   "id": "768984da",
   "metadata": {
    "hideCode": false,
    "hideOutput": true,
    "hidePrompt": true
   },
   "outputs": [],
   "source": [
    "x0 = [0.2,0.5,0.3] \n",
    "tend = 1000 \n",
    "tstep = 0.1 \n",
    "t = np.arange(0,tend,tstep)\n",
    "\n",
    "x = integ.odeint(social,x0,t)\n",
    "\n",
    "fig, tax = ternary.figure(scale=100)\n",
    "line = tax.plot(100*x[:2], color=\"blue\")\n",
    "point = tax.scatter(list([100*x[0]]), alpha = 1, color = \"blue\", s = 40)\n",
    "tax.boundary(linewidth=2.0)\n",
    "tax.gridlines(color=\"black\", multiple=10)\n",
    "fontsize = 10\n",
    "offset = 0.15\n",
    "tax.left_axis_label(\"frequency of e0 (%)\", fontsize=fontsize, offset = offset)\n",
    "tax.right_axis_label(\"frequency of e- (%)\", fontsize=fontsize, offset = offset)\n",
    "tax.bottom_axis_label(\"frequency of e+ (%)\", fontsize=fontsize, offset = offset)\n",
    "#tax.right_corner_label(\"Rock\", fontsize=fontsize, offset = 0.25)\n",
    "#tax.top_corner_label(\"Paper\", fontsize=fontsize, offset = 0.25)\n",
    "#tax.left_corner_label(\"Scissors\", fontsize=fontsize, offset = 0.25)\n",
    "tax.ticks(axis='lbr', multiple=10, linewidth=1, offset=0.025)\n",
    "tax.get_axes().axis('off')\n",
    "tax.clear_matplotlib_ticks()\n",
    "\n",
    "def update(frame):\n",
    "\n",
    "    line = tax.plot(100*x[:frame+2], color=\"blue\", label=f'trajectory')\n",
    "\n",
    "    return (line)\n",
    "\n",
    "\n",
    "ani = animation.FuncAnimation(fig=fig, func=update, frames=300, interval=30)\n",
    "\n",
    "matplotlib.rcParams['animation.embed_limit'] = 2**128\n",
    "\n",
    "from IPython.display import HTML\n",
    "#html = HTML(ani.to_jshtml())\n",
    "#display(html)\n",
    "plt.close()"
   ]
  },
  {
   "cell_type": "code",
   "execution_count": null,
   "id": "bc9ecc82",
   "metadata": {
    "hideCode": false,
    "hideOutput": true,
    "hidePrompt": true
   },
   "outputs": [],
   "source": []
  }
 ],
 "metadata": {
  "celltoolbar": "Hide code",
  "kernelspec": {
   "display_name": "Python 3 (ipykernel)",
   "language": "python",
   "name": "python3"
  },
  "language_info": {
   "codemirror_mode": {
    "name": "ipython",
    "version": 3
   },
   "file_extension": ".py",
   "mimetype": "text/x-python",
   "name": "python",
   "nbconvert_exporter": "python",
   "pygments_lexer": "ipython3",
   "version": "3.11.5"
  }
 },
 "nbformat": 4,
 "nbformat_minor": 5
}
